{
 "cells": [
  {
   "cell_type": "code",
   "execution_count": 51,
   "id": "c7543dc0",
   "metadata": {},
   "outputs": [],
   "source": [
    "import requests\n",
    "from bs4 import BeautifulSoup\n",
    "import csv"
   ]
  },
  {
   "cell_type": "code",
   "execution_count": 52,
   "id": "855c1fc8",
   "metadata": {},
   "outputs": [],
   "source": [
    "url = 'https://indeks.kompas.com/?site=megapolitan&page='"
   ]
  },
  {
   "cell_type": "code",
   "execution_count": 53,
   "id": "46576305",
   "metadata": {},
   "outputs": [],
   "source": [
    "datas = []\n",
    "for page in range(1, 3) :\n",
    "    kompas = requests.get(url+str(page))\n",
    "    beautify = BeautifulSoup(kompas.text, 'html.parser')"
   ]
  },
  {
   "cell_type": "code",
   "execution_count": 57,
   "id": "5a2f51b6",
   "metadata": {},
   "outputs": [],
   "source": [
    "indeks = beautify.find('div', {'class','latest--indeks mt2 clearfix'})\n",
    "berita = indeks.find_all('div', {'class','article__list clearfix'})\n",
    "for each in berita:\n",
    "    judul = each.find('h3', {'class','article__title article__title--medium'}).text\n",
    "    tanggal = each.find('div', {'class','article__date'}).text\n",
    "    link = each.a.get('href')\n",
    "    datas.append([judul, tanggal, link])"
   ]
  },
  {
   "cell_type": "code",
   "execution_count": 59,
   "id": "31f2a356",
   "metadata": {},
   "outputs": [],
   "source": [
    "kepala = ['Judul Berita', 'Tanggal Berita', 'Link']\n",
    "writer = csv.writer(open('hasil/indeks.csv', 'w', newline=''))\n",
    "writer.writerow(kepala)\n",
    "for d in datas : writer.writerow(d)"
   ]
  }
 ],
 "metadata": {
  "kernelspec": {
   "display_name": "Python 3",
   "language": "python",
   "name": "python3"
  },
  "language_info": {
   "codemirror_mode": {
    "name": "ipython",
    "version": 3
   },
   "file_extension": ".py",
   "mimetype": "text/x-python",
   "name": "python",
   "nbconvert_exporter": "python",
   "pygments_lexer": "ipython3",
   "version": "3.9.7"
  }
 },
 "nbformat": 4,
 "nbformat_minor": 5
}
